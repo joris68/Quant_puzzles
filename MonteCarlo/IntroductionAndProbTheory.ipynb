{
  "cells": [
    {
      "cell_type": "markdown",
      "source": [
        "\n",
        "Explorations in Monte Carlo Methods\n",
        "\n",
        "\n",
        "\n",
        "\n",
        "\n",
        "\n"
      ],
      "metadata": {
        "id": "tpZVNGP0t5XY"
      },
      "id": "tpZVNGP0t5XY"
    },
    {
      "cell_type": "markdown",
      "source": [
        "History of the Monto Carlo Method.\n",
        "The Buffon Needle Problem:\n",
        "\n",
        "Approximating PI with a large amount of random events. We will do this by letting a needle drop on a flat surface. We will generate radnom numbers from a uniform distribution using np.random. Togehter we will generate pairs (x , theta). X being the distance to the nearest line and theta the winkel."
      ],
      "metadata": {
        "id": "qzJ8LumHugMd"
      },
      "id": "qzJ8LumHugMd"
    },
    {
      "cell_type": "code",
      "source": [
        "!pip install matplotlib\n"
      ],
      "metadata": {
        "colab": {
          "base_uri": "https://localhost:8080/"
        },
        "id": "_-c8Y0B4yr81",
        "executionInfo": {
          "status": "ok",
          "timestamp": 1726137178704,
          "user_tz": -120,
          "elapsed": 3799,
          "user": {
            "displayName": "",
            "userId": ""
          }
        },
        "outputId": "ebbe602a-5d3a-4767-bc19-29d80a0bc3a9"
      },
      "id": "_-c8Y0B4yr81",
      "execution_count": 3,
      "outputs": [
        {
          "output_type": "stream",
          "name": "stdout",
          "text": [
            "Requirement already satisfied: matplotlib in /usr/local/lib/python3.10/dist-packages (3.7.1)\n",
            "Requirement already satisfied: contourpy>=1.0.1 in /usr/local/lib/python3.10/dist-packages (from matplotlib) (1.3.0)\n",
            "Requirement already satisfied: cycler>=0.10 in /usr/local/lib/python3.10/dist-packages (from matplotlib) (0.12.1)\n",
            "Requirement already satisfied: fonttools>=4.22.0 in /usr/local/lib/python3.10/dist-packages (from matplotlib) (4.53.1)\n",
            "Requirement already satisfied: kiwisolver>=1.0.1 in /usr/local/lib/python3.10/dist-packages (from matplotlib) (1.4.5)\n",
            "Requirement already satisfied: numpy>=1.20 in /usr/local/lib/python3.10/dist-packages (from matplotlib) (1.26.4)\n",
            "Requirement already satisfied: packaging>=20.0 in /usr/local/lib/python3.10/dist-packages (from matplotlib) (24.1)\n",
            "Requirement already satisfied: pillow>=6.2.0 in /usr/local/lib/python3.10/dist-packages (from matplotlib) (9.4.0)\n",
            "Requirement already satisfied: pyparsing>=2.3.1 in /usr/local/lib/python3.10/dist-packages (from matplotlib) (3.1.4)\n",
            "Requirement already satisfied: python-dateutil>=2.7 in /usr/local/lib/python3.10/dist-packages (from matplotlib) (2.8.2)\n",
            "Requirement already satisfied: six>=1.5 in /usr/local/lib/python3.10/dist-packages (from python-dateutil>=2.7->matplotlib) (1.16.0)\n"
          ]
        }
      ]
    },
    {
      "cell_type": "code",
      "source": [
        "# A super Experiment of the Buffon Needle Problem\n",
        "# Histogramming the output of all events\n",
        "\n",
        "import numpy as np\n",
        "import matplotlib.pyplot as plt\n",
        "\n",
        "\n",
        "throws = 100 # throws within one experiment\n",
        "replications = 2000 # replication of one event\n",
        "\n",
        "y = [0.0] * replications\n",
        "\n",
        "for i in range(replications):\n",
        "  x = np.random.rand(throws)\n",
        "  theta = 0.5 * np.pi + np.random.rand(throws)\n",
        "  hits = (x <= 0.5 * np.sin(theta)) # construct a boolean list\n",
        "  y[i] = (sum(hits) / float(throws))\n",
        "\n",
        "recipEst = sum(y) / float(replications)\n",
        "#print(recipEst)\n",
        "vVec = (y - recipEst) * (y - recipEst)\n",
        "#print(vVec)\n",
        "v = sum(vVec) / (replications -1)\n",
        "stddev = np.sqrt(v)\n",
        "piEst = 1 / recipEst\n",
        "print(recipEst)\n",
        "fig = plt.figure()\n",
        "plt.hist(y, bins=12)\n",
        "plt.show()\n",
        "\n",
        "\n"
      ],
      "metadata": {
        "colab": {
          "base_uri": "https://localhost:8080/",
          "height": 448
        },
        "id": "n53HYatsupVV",
        "executionInfo": {
          "status": "ok",
          "timestamp": 1726138502360,
          "user_tz": -120,
          "elapsed": 617,
          "user": {
            "displayName": "",
            "userId": ""
          }
        },
        "outputId": "dd9daeff-e90a-4e11-da92-47d66a95bf4c"
      },
      "id": "n53HYatsupVV",
      "execution_count": 10,
      "outputs": [
        {
          "output_type": "stream",
          "name": "stdout",
          "text": [
            "0.4200750000000013\n"
          ]
        },
        {
          "output_type": "display_data",
          "data": {
            "text/plain": [
              "<Figure size 640x480 with 1 Axes>"
            ],
            "image/png": "[encoded data removed]"
          },
          "metadata": {}
        }
      ]
    },
    {
      "cell_type": "markdown",
      "source": [
        "Histrogramming to understand the results of Monte Carlo Experiments. By conducting the experiment one time we get an instance ( one of the possible outcomes). Running the experiment one time is called a trial of the experiment."
      ],
      "metadata": {
        "id": "naBQdWQS4UuT"
      },
      "id": "naBQdWQS4UuT"
    },
    {
      "cell_type": "markdown",
      "source": [
        "Sample Paths: Another method to portray the results of a run are sample Paths. Gambler's ruin: 1 Dollar bets against the house. Gambler starts with 100$ and the Bank with 2000 Dollar. The chance is 50% of winning"
      ],
      "metadata": {
        "id": "vvT-2kBp4k7z"
      },
      "id": "vvT-2kBp4k7z"
    },
    {
      "cell_type": "code",
      "source": [
        "import random\n",
        "import numpy as np\n",
        "import matplotlib.pyplot as plt\n",
        "number_of_gamblers = 3\n",
        "time_series = []\n",
        "for z in range(number_of_gamblers):\n",
        "  R = []\n",
        "  W = random.random()< 0.5\n",
        "  i = 0; R.append(100) # inital fortune\n",
        "  while(R[i] > 0 and R[i] < 2000):\n",
        "      i +=1\n",
        "      W = (random.random()< 0.5)\n",
        "      W = 2 * W -1\n",
        "      R.append(R[i-1] + W)\n",
        "  time_series.append(R)\n",
        "\n",
        "# Calculate maximum length of gambler runs\n",
        "array_of_lenghts = [len(x) for x in time_series]\n",
        "max_val = array_of_lenghts[0]\n",
        "for x in array_of_lenghts:\n",
        "    if x > max:\n",
        "        max = x\n",
        "\n",
        "# Generate x-axis values based on max length\n",
        "x = np.linspace(1, max_val, max_val)\n",
        "\n",
        "for i in range(len(time_series)):\n",
        "  plt.plot(x, time_series[i])\n",
        "\n",
        "plt.show()"
      ],
      "metadata": {
        "colab": {
          "base_uri": "https://localhost:8080/",
          "height": 812
        },
        "id": "43NqMJSY5_3x",
        "executionInfo": {
          "status": "error",
          "timestamp": 1726149805166,
          "user_tz": -120,
          "elapsed": 547,
          "user": {
            "displayName": "",
            "userId": ""
          }
        },
        "outputId": "84f8e729-76ae-4597-f528-5e098de78648"
      },
      "id": "43NqMJSY5_3x",
      "execution_count": 28,
      "outputs": [
        {
          "output_type": "error",
          "ename": "ValueError",
          "evalue": "x and y must have same first dimension, but have shapes (138797,) and (6763,)",
          "traceback": [
            "\u001b[0;31m---------------------------------------------------------------------------\u001b[0m",
            "\u001b[0;31mValueError\u001b[0m                                Traceback (most recent call last)",
            "\u001b[0;32m<ipython-input-28-aa48064eae3e>\u001b[0m in \u001b[0;36m<cell line: 29>\u001b[0;34m()\u001b[0m\n\u001b[1;32m     28\u001b[0m \u001b[0;31m# Plot each gambler's run\u001b[0m\u001b[0;34m\u001b[0m\u001b[0;34m\u001b[0m\u001b[0m\n\u001b[1;32m     29\u001b[0m \u001b[0;32mfor\u001b[0m \u001b[0mi\u001b[0m \u001b[0;32min\u001b[0m \u001b[0mrange\u001b[0m\u001b[0;34m(\u001b[0m\u001b[0mlen\u001b[0m\u001b[0;34m(\u001b[0m\u001b[0mtime_series\u001b[0m\u001b[0;34m)\u001b[0m\u001b[0;34m)\u001b[0m\u001b[0;34m:\u001b[0m\u001b[0;34m\u001b[0m\u001b[0;34m\u001b[0m\u001b[0m\n\u001b[0;32m---> 30\u001b[0;31m   \u001b[0mplt\u001b[0m\u001b[0;34m.\u001b[0m\u001b[0mplot\u001b[0m\u001b[0;34m(\u001b[0m\u001b[0mx\u001b[0m\u001b[0;34m,\u001b[0m \u001b[0mtime_series\u001b[0m\u001b[0;34m[\u001b[0m\u001b[0mi\u001b[0m\u001b[0;34m]\u001b[0m\u001b[0;34m)\u001b[0m\u001b[0;34m\u001b[0m\u001b[0;34m\u001b[0m\u001b[0m\n\u001b[0m\u001b[1;32m     31\u001b[0m \u001b[0;34m\u001b[0m\u001b[0m\n\u001b[1;32m     32\u001b[0m \u001b[0mplt\u001b[0m\u001b[0;34m.\u001b[0m\u001b[0mshow\u001b[0m\u001b[0;34m(\u001b[0m\u001b[0;34m)\u001b[0m\u001b[0;34m\u001b[0m\u001b[0;34m\u001b[0m\u001b[0m\n",
            "\u001b[0;32m/usr/local/lib/python3.10/dist-packages/matplotlib/pyplot.py\u001b[0m in \u001b[0;36mplot\u001b[0;34m(scalex, scaley, data, *args, **kwargs)\u001b[0m\n\u001b[1;32m   2810\u001b[0m \u001b[0;34m@\u001b[0m\u001b[0m_copy_docstring_and_deprecators\u001b[0m\u001b[0;34m(\u001b[0m\u001b[0mAxes\u001b[0m\u001b[0;34m.\u001b[0m\u001b[0mplot\u001b[0m\u001b[0;34m)\u001b[0m\u001b[0;34m\u001b[0m\u001b[0;34m\u001b[0m\u001b[0m\n\u001b[1;32m   2811\u001b[0m \u001b[0;32mdef\u001b[0m \u001b[0mplot\u001b[0m\u001b[0;34m(\u001b[0m\u001b[0;34m*\u001b[0m\u001b[0margs\u001b[0m\u001b[0;34m,\u001b[0m \u001b[0mscalex\u001b[0m\u001b[0;34m=\u001b[0m\u001b[0;32mTrue\u001b[0m\u001b[0;34m,\u001b[0m \u001b[0mscaley\u001b[0m\u001b[0;34m=\u001b[0m\u001b[0;32mTrue\u001b[0m\u001b[0;34m,\u001b[0m \u001b[0mdata\u001b[0m\u001b[0;34m=\u001b[0m\u001b[0;32mNone\u001b[0m\u001b[0;34m,\u001b[0m \u001b[0;34m**\u001b[0m\u001b[0mkwargs\u001b[0m\u001b[0;34m)\u001b[0m\u001b[0;34m:\u001b[0m\u001b[0;34m\u001b[0m\u001b[0;34m\u001b[0m\u001b[0m\n\u001b[0;32m-> 2812\u001b[0;31m     return gca().plot(\n\u001b[0m\u001b[1;32m   2813\u001b[0m         \u001b[0;34m*\u001b[0m\u001b[0margs\u001b[0m\u001b[0;34m,\u001b[0m \u001b[0mscalex\u001b[0m\u001b[0;34m=\u001b[0m\u001b[0mscalex\u001b[0m\u001b[0;34m,\u001b[0m \u001b[0mscaley\u001b[0m\u001b[0;34m=\u001b[0m\u001b[0mscaley\u001b[0m\u001b[0;34m,\u001b[0m\u001b[0;34m\u001b[0m\u001b[0;34m\u001b[0m\u001b[0m\n\u001b[1;32m   2814\u001b[0m         **({\"data\": data} if data is not None else {}), **kwargs)\n",
            "\u001b[0;32m/usr/local/lib/python3.10/dist-packages/matplotlib/axes/_axes.py\u001b[0m in \u001b[0;36mplot\u001b[0;34m(self, scalex, scaley, data, *args, **kwargs)\u001b[0m\n\u001b[1;32m   1686\u001b[0m         \"\"\"\n\u001b[1;32m   1687\u001b[0m         \u001b[0mkwargs\u001b[0m \u001b[0;34m=\u001b[0m \u001b[0mcbook\u001b[0m\u001b[0;34m.\u001b[0m\u001b[0mnormalize_kwargs\u001b[0m\u001b[0;34m(\u001b[0m\u001b[0mkwargs\u001b[0m\u001b[0;34m,\u001b[0m \u001b[0mmlines\u001b[0m\u001b[0;34m.\u001b[0m\u001b[0mLine2D\u001b[0m\u001b[0;34m)\u001b[0m\u001b[0;34m\u001b[0m\u001b[0;34m\u001b[0m\u001b[0m\n\u001b[0;32m-> 1688\u001b[0;31m         \u001b[0mlines\u001b[0m \u001b[0;34m=\u001b[0m \u001b[0;34m[\u001b[0m\u001b[0;34m*\u001b[0m\u001b[0mself\u001b[0m\u001b[0;34m.\u001b[0m\u001b[0m_get_lines\u001b[0m\u001b[0;34m(\u001b[0m\u001b[0;34m*\u001b[0m\u001b[0margs\u001b[0m\u001b[0;34m,\u001b[0m \u001b[0mdata\u001b[0m\u001b[0;34m=\u001b[0m\u001b[0mdata\u001b[0m\u001b[0;34m,\u001b[0m \u001b[0;34m**\u001b[0m\u001b[0mkwargs\u001b[0m\u001b[0;34m)\u001b[0m\u001b[0;34m]\u001b[0m\u001b[0;34m\u001b[0m\u001b[0;34m\u001b[0m\u001b[0m\n\u001b[0m\u001b[1;32m   1689\u001b[0m         \u001b[0;32mfor\u001b[0m \u001b[0mline\u001b[0m \u001b[0;32min\u001b[0m \u001b[0mlines\u001b[0m\u001b[0;34m:\u001b[0m\u001b[0;34m\u001b[0m\u001b[0;34m\u001b[0m\u001b[0m\n\u001b[1;32m   1690\u001b[0m             \u001b[0mself\u001b[0m\u001b[0;34m.\u001b[0m\u001b[0madd_line\u001b[0m\u001b[0;34m(\u001b[0m\u001b[0mline\u001b[0m\u001b[0;34m)\u001b[0m\u001b[0;34m\u001b[0m\u001b[0;34m\u001b[0m\u001b[0m\n",
            "\u001b[0;32m/usr/local/lib/python3.10/dist-packages/matplotlib/axes/_base.py\u001b[0m in \u001b[0;36m__call__\u001b[0;34m(self, data, *args, **kwargs)\u001b[0m\n\u001b[1;32m    309\u001b[0m                 \u001b[0mthis\u001b[0m \u001b[0;34m+=\u001b[0m \u001b[0margs\u001b[0m\u001b[0;34m[\u001b[0m\u001b[0;36m0\u001b[0m\u001b[0;34m]\u001b[0m\u001b[0;34m,\u001b[0m\u001b[0;34m\u001b[0m\u001b[0;34m\u001b[0m\u001b[0m\n\u001b[1;32m    310\u001b[0m                 \u001b[0margs\u001b[0m \u001b[0;34m=\u001b[0m \u001b[0margs\u001b[0m\u001b[0;34m[\u001b[0m\u001b[0;36m1\u001b[0m\u001b[0;34m:\u001b[0m\u001b[0;34m]\u001b[0m\u001b[0;34m\u001b[0m\u001b[0;34m\u001b[0m\u001b[0m\n\u001b[0;32m--> 311\u001b[0;31m             yield from self._plot_args(\n\u001b[0m\u001b[1;32m    312\u001b[0m                 this, kwargs, ambiguous_fmt_datakey=ambiguous_fmt_datakey)\n\u001b[1;32m    313\u001b[0m \u001b[0;34m\u001b[0m\u001b[0m\n",
            "\u001b[0;32m/usr/local/lib/python3.10/dist-packages/matplotlib/axes/_base.py\u001b[0m in \u001b[0;36m_plot_args\u001b[0;34m(self, tup, kwargs, return_kwargs, ambiguous_fmt_datakey)\u001b[0m\n\u001b[1;32m    502\u001b[0m \u001b[0;34m\u001b[0m\u001b[0m\n\u001b[1;32m    503\u001b[0m         \u001b[0;32mif\u001b[0m \u001b[0mx\u001b[0m\u001b[0;34m.\u001b[0m\u001b[0mshape\u001b[0m\u001b[0;34m[\u001b[0m\u001b[0;36m0\u001b[0m\u001b[0;34m]\u001b[0m \u001b[0;34m!=\u001b[0m \u001b[0my\u001b[0m\u001b[0;34m.\u001b[0m\u001b[0mshape\u001b[0m\u001b[0;34m[\u001b[0m\u001b[0;36m0\u001b[0m\u001b[0;34m]\u001b[0m\u001b[0;34m:\u001b[0m\u001b[0;34m\u001b[0m\u001b[0;34m\u001b[0m\u001b[0m\n\u001b[0;32m--> 504\u001b[0;31m             raise ValueError(f\"x and y must have same first dimension, but \"\n\u001b[0m\u001b[1;32m    505\u001b[0m                              f\"have shapes {x.shape} and {y.shape}\")\n\u001b[1;32m    506\u001b[0m         \u001b[0;32mif\u001b[0m \u001b[0mx\u001b[0m\u001b[0;34m.\u001b[0m\u001b[0mndim\u001b[0m \u001b[0;34m>\u001b[0m \u001b[0;36m2\u001b[0m \u001b[0;32mor\u001b[0m \u001b[0my\u001b[0m\u001b[0;34m.\u001b[0m\u001b[0mndim\u001b[0m \u001b[0;34m>\u001b[0m \u001b[0;36m2\u001b[0m\u001b[0;34m:\u001b[0m\u001b[0;34m\u001b[0m\u001b[0;34m\u001b[0m\u001b[0m\n",
            "\u001b[0;31mValueError\u001b[0m: x and y must have same first dimension, but have shapes (138797,) and (6763,)"
          ]
        },
        {
          "output_type": "display_data",
          "data": {
            "text/plain": [
              "<Figure size 640x480 with 1 Axes>"
            ],
            "image/png": "[encoded data removed]"
          },
          "metadata": {}
        }
      ]
    },
    {
      "cell_type": "markdown",
      "source": [
        "Probability:\n",
        "\n",
        "*   Event E : a possible outcome in a probabilistic Experiment\n",
        "*   Universe Omega: Set of all possible outcomes\n",
        "*   Pr(E) is the limit of the fraction of times E occurs in an infinite long sequence of events (number of trails goes against infinity)\n",
        "* A random varibable is a mapping of outcomes of an Experiment (Omega) to the real numbers (Omega -> R)\n",
        "* a probability distribution: a function that reports all possible outcomes of an experiment\n",
        "\n"
      ],
      "metadata": {
        "id": "1d-gyq7DguCO"
      },
      "id": "1d-gyq7DguCO"
    },
    {
      "cell_type": "code",
      "source": [
        "# lets construct a toin coss Experiment, every coin is tossed twice\n",
        "\n",
        "#Omega: all possible outcomes of an toin coss\n",
        "omega = [[\"H\", \"H\"], [\"H\", \"T\"], [\"T\", \"H\"], [\"T\", \"T\"]]\n",
        "\n",
        "# possible events would be: at least one head occurs\n",
        "# a possible random variable would be X = The Number of Heads\n",
        "\n",
        "# lets create a mapping Omega -> Real Numbers\n",
        "random_variable ={\n",
        "    \"HH\": 2,\n",
        "    \"HT\" : 1,\n",
        "    \"TH\" : 1,\n",
        "    \"TT\" : 0\n",
        "}\n",
        "\n"
      ],
      "metadata": {
        "id": "rT8RhKOPktLp",
        "executionInfo": {
          "status": "ok",
          "timestamp": 1726150844582,
          "user_tz": -120,
          "elapsed": 179,
          "user": {
            "displayName": "",
            "userId": ""
          }
        }
      },
      "id": "rT8RhKOPktLp",
      "execution_count": 29,
      "outputs": []
    },
    {
      "cell_type": "markdown",
      "source": [
        "Discrete Random Varibales:\n",
        "A discrete random variable assumes only finite and countable infinite many outcomes of the experiment. So the cardinality of Omega is finite or coutable infinite.\n",
        "\n",
        "\n",
        "*   Countable infinity (https://mathinsight.org/definition/countably_infinite) : a set is countable infinite id its elements can be out into corresponcence with the Natural Numbers\n",
        "\n",
        "Continuous Random Variables:\n",
        "The cardinality of Omega is non-countable infinite (like the real numbers). Pr(X = x) = 0 for every real value x.\n",
        "\n",
        "\n",
        "\n",
        "\n"
      ],
      "metadata": {
        "id": "pzeu7Xb9o_o0"
      },
      "id": "pzeu7Xb9o_o0"
    },
    {
      "cell_type": "markdown",
      "source": [
        "Cumulative distribution Function:\n",
        " * cdf(x) = Pr(X <= x); for both discrete and continuous random varibables.\n",
        " * lim x -> + infinity cdf(x) -> 1\n",
        " * lim x -> - infinity cdf(x) -> 0\n",
        " * general true: cdf(x1) <= cdf(x2), if x1 <= x2"
      ],
      "metadata": {
        "id": "smCw3ZTdWv-E"
      },
      "id": "smCw3ZTdWv-E"
    },
    {
      "cell_type": "code",
      "source": [
        "# cumulative distribution function for an arbitrary amount of toin cosses.\n",
        "# random variable will be set for: X = amount of heads\n",
        "\n",
        "# write a function that accepts to arguments number_of_tosses and x (Pr(X <= x))\n",
        "# and gives back the cumulative prob for this setup\n",
        "\n",
        "def faculty(n) -> int:\n",
        "    if(n == 0):\n",
        "      return 1\n",
        "    if (n == 1):\n",
        "      return 1\n",
        "    result = 1\n",
        "    while (n > 0):\n",
        "      result *= n\n",
        "      n -=1\n",
        "    return result\n",
        "\n",
        "\n",
        "def NchooseK(n, k):\n",
        "    numerator = faculty(n)\n",
        "    denominator = faculty(k) * faculty(n -k)\n",
        "    return numerator / denominator\n",
        "\n",
        "\n",
        "def cdf_coin_tosses(number_of_tosses, x) -> float :\n",
        "    if(x > number_of_tosses):\n",
        "        raise Exception('Invalid Arguments')\n",
        "    #short cut\n",
        "    if(x == number_of_tosses):\n",
        "        return 1\n",
        "    # everything else\n",
        "    prob_head = 0.5\n",
        "    prob_otherwise = 1 - prob_head\n",
        "\n",
        "    k = 0\n",
        "    result = 0\n",
        "    while(k <= x):\n",
        "      result += NchooseK(number_of_tosses, k) * pow( prob_head, k) * pow(  prob_otherwise, number_of_tosses-k )\n",
        "      print(f\"result for k={k} and the result = {result}\")\n",
        "      k += 1\n",
        "    return result\n",
        "\n",
        "\n",
        "res1 = cdf_coin_tosses(2,1)\n",
        "print(f\"The end result: {res1}\")\n"
      ],
      "metadata": {
        "colab": {
          "base_uri": "https://localhost:8080/"
        },
        "id": "Xs9pyy_sqacC",
        "executionInfo": {
          "status": "ok",
          "timestamp": 1726239956650,
          "user_tz": -120,
          "elapsed": 162,
          "user": {
            "displayName": "",
            "userId": ""
          }
        },
        "outputId": "dac89d3f-3c14-4b7e-d70c-0cfb181b4a97"
      },
      "id": "Xs9pyy_sqacC",
      "execution_count": 13,
      "outputs": [
        {
          "output_type": "stream",
          "name": "stdout",
          "text": [
            "result for k=0 and the result = 0.25\n",
            "result for k=1 and the result = 0.75\n",
            "The end result: 0.75\n"
          ]
        }
      ]
    },
    {
      "cell_type": "markdown",
      "source": [
        "For continuous random variables the cdf either remains constant or increases."
      ],
      "metadata": {
        "id": "tbCMDCiQt-r0"
      },
      "id": "tbCMDCiQt-r0"
    },
    {
      "cell_type": "markdown",
      "source": [
        "**The Probability Density Function (pdf)**\n",
        "\n",
        "* for discrete random variables the pdf(x) = Pr(X = x), this is also often called the probability mass function\n",
        "* for continuous random varibles: pdf(x) lim e -> 0 ( cdf (x) - cdf(x -e) ), since for continuous random variables the Pr(X = x) = 0\n",
        "* pdf(x) is the acumulation of probability at x (the derivative of the cumulative distribution function)\n",
        "\n",
        "---\n",
        "Pr(a < X <= b) = SUM (pdf(x)) = cdf(b) - cdf(a)\n",
        "\n",
        "pdf(x) = d/dx cdf(x)\n",
        "\n",
        "Pr(a < X <= b) = INTEGRAL (a,b) pdf(x) dx = cdf(b) - cdf(a)\n",
        "\n",
        "The cumulative distribution function in itself is given by:\n",
        "\n",
        "cdf(x) = INTEGRAL(-inf, x) pdf(t)dt"
      ],
      "metadata": {
        "id": "xQn_uFU5uhSv"
      },
      "id": "xQn_uFU5uhSv"
    },
    {
      "cell_type": "markdown",
      "source": [
        "**The Uniform distribution**\n",
        "The uniform distribution is the most important distribution for monte Carlo methods, since from this distribution sample for every other distribution is derived.\n",
        "\n",
        "The value of the pdf(x) is equal for all x in Omega"
      ],
      "metadata": {
        "id": "iBXDMhu902f0"
      },
      "id": "iBXDMhu902f0"
    },
    {
      "cell_type": "code",
      "source": [
        "# lets make a discrete unfiform distribution for range  [0,6]\n",
        "# for every x in range(6) the pdf is 1 / len(range(6))\n",
        "# Pr(Omega) = 1\n",
        "\n",
        "interval = [0, 6]\n",
        "omega = range(0,6)\n",
        "print(len(omega))\n",
        "\n",
        "# cumulative distribution function for the uniform distribution is\n",
        "# start point for integral\n",
        "#end point for integral\n",
        "def cdf_uniform_distribution(start, end):\n",
        "  if(start > end):\n",
        "    raise Exception('Invalid Arguments')\n",
        "\n",
        "  omega_length = len(omega)\n",
        "  diff = end - start\n",
        "  return diff / omega_length\n",
        "\n",
        "res = cdf_uniform_distribution(2, 4)\n",
        "\n",
        "print(res)"
      ],
      "metadata": {
        "colab": {
          "base_uri": "https://localhost:8080/"
        },
        "id": "2VpTsID81j9F",
        "executionInfo": {
          "status": "ok",
          "timestamp": 1726323593864,
          "user_tz": -120,
          "elapsed": 732,
          "user": {
            "displayName": "",
            "userId": ""
          }
        },
        "outputId": "a0abb00e-0133-4266-9d4e-ae562a4b619b"
      },
      "id": "2VpTsID81j9F",
      "execution_count": 4,
      "outputs": [
        {
          "output_type": "stream",
          "name": "stdout",
          "text": [
            "6\n",
            "0.3333333333333333\n"
          ]
        }
      ]
    },
    {
      "cell_type": "markdown",
      "source": [
        "So, the density function gives information about a specific event in omega. pdf(x). the cumulative is the Integral of the pdf and can give about"
      ],
      "metadata": {
        "id": "Z-lxfp0j6K82"
      },
      "id": "Z-lxfp0j6K82"
    },
    {
      "cell_type": "markdown",
      "source": [
        "**Expected Values and Law of Large Numbers**\n",
        "\n",
        "(in general in the contiuous case the sum becomes an integral)\n",
        "\n",
        "* the expected value is the sum of its possibles valus weighted by the probability\n",
        "\n",
        "* the expectation Value E(r): if an Experiment is run many times the expected value is the limit to which the average trials converge\n",
        "\n",
        "Law of Large Numbers:\n",
        " as the n -> inf , the sample mean goes to the true mean"
      ],
      "metadata": {
        "id": "PwXkV3d28LRx"
      },
      "id": "PwXkV3d28LRx"
    },
    {
      "cell_type": "markdown",
      "source": [
        "Typical questions: Calculate the waiting time T until the first 6 appears on the roll of a single dice.\n",
        "\n",
        "This builds a geometric progression. For this we should use the geometric distribution (a discrete probability distribution that is used for tries before the first sucess)."
      ],
      "metadata": {
        "id": "_n3To1cfFclm"
      },
      "id": "_n3To1cfFclm"
    },
    {
      "cell_type": "code",
      "source": [
        "# build a function that gives back the expectation value of the sum of the eyes of an arbitrary amount of dice rolled\n",
        "\n",
        "\n",
        "\n",
        "# build a function that gives back the variance of the"
      ],
      "metadata": {
        "id": "di8rM6VShKP_"
      },
      "id": "di8rM6VShKP_",
      "execution_count": null,
      "outputs": []
    },
    {
      "cell_type": "markdown",
      "source": [
        "**Conditional Probability**\n",
        "\n",
        "* in a probabilistic Experiment additional Knowledge makes some outcomes impossible: Pr(A |B) = Pr ( A and B) / Pr (B) , B is acting as the universe because B has already happened.\n",
        "\n",
        "Decomposition of Events:\n",
        "\n",
        "* we will devide Omega into sets of outcomes that do not have abaything in commen\n",
        "* in general conditional probability is about having different amount of information at different points in time (I guess)\n",
        "\n",
        "Independence of Events:\n",
        "* two events are independent from each other if Pr(A | B) = Pr(A), the outcomes of these have no effect on each other"
      ],
      "metadata": {
        "id": "Hmcz-pU4kr3M"
      },
      "id": "Hmcz-pU4kr3M"
    },
    {
      "cell_type": "markdown",
      "source": [
        "The Bayes Formula:\n",
        "* Answers the question of the conditional Probabilities can be reversed"
      ],
      "metadata": {
        "id": "nYINEeWswukb"
      },
      "id": "nYINEeWswukb"
    },
    {
      "cell_type": "code",
      "source": [
        "!pip install csv"
      ],
      "metadata": {
        "colab": {
          "base_uri": "https://localhost:8080/"
        },
        "id": "0RoIBmnogG4A",
        "executionInfo": {
          "status": "ok",
          "timestamp": 1726518240319,
          "user_tz": -120,
          "elapsed": 1441,
          "user": {
            "displayName": "",
            "userId": ""
          }
        },
        "outputId": "bf715ddf-27c7-4e2e-8bde-1d97bb63ceb7"
      },
      "id": "0RoIBmnogG4A",
      "execution_count": 2,
      "outputs": [
        {
          "output_type": "stream",
          "name": "stdout",
          "text": [
            "\u001b[31mERROR: Could not find a version that satisfies the requirement csv (from versions: none)\u001b[0m\u001b[31m\n",
            "\u001b[0m\u001b[31mERROR: No matching distribution found for csv\u001b[0m\u001b[31m\n",
            "\u001b[0m"
          ]
        }
      ]
    },
    {
      "cell_type": "code",
      "source": [
        "# The monty hall Problem in Python\n",
        "# write a Python Program that simulates all Possible sample paths in the Monty Hall Problem and derive\n",
        "# the probability for switching and not switching from your simulation\n",
        "\n",
        "import csv\n",
        "\n",
        "car_is_in = [\"one\", \"two\", \"three\"]\n",
        "initial_choice = [\"one\", \"two\", \"three\"]\n",
        "\n",
        "switch = [True, False]\n",
        "\n",
        "number_of_shows = 100\n",
        "shows = []\n",
        "\n",
        "def has_won()\n",
        "\n",
        "def choose_from_three() -> int:\n",
        "  pass\n",
        "\n",
        "\n",
        "\n",
        "def choose_from_two() -> int:\n",
        "  pass\n",
        "\n",
        "\n",
        "def simulate_one_show() -> list:\n",
        "  pass\n",
        "\n",
        "\n",
        "\n",
        "\n",
        "\n",
        "\n",
        "\n",
        "\n",
        "\n",
        "\n",
        "\n",
        "\n",
        "\n",
        "\n",
        "\n",
        "\n",
        "\n",
        "\n",
        "\n",
        "\n",
        "\n",
        "\n",
        "\n",
        "\n",
        "\n",
        "\n",
        "\n"
      ],
      "metadata": {
        "id": "d_nLiJIHaO8i"
      },
      "id": "d_nLiJIHaO8i",
      "execution_count": null,
      "outputs": []
    }
  ],
  "metadata": {
    "kernelspec": {
      "display_name": "Python 3",
      "language": "python",
      "name": "python3"
    },
    "language_info": {
      "codemirror_mode": {
        "name": "ipython",
        "version": 3
      },
      "file_extension": ".py",
      "mimetype": "text/x-python",
      "name": "python",
      "nbconvert_exporter": "python",
      "pygments_lexer": "ipython3",
      "version": "3.10.10"
    },
    "colab": {
      "provenance": [],
      "name": "j.gabrisch (Sep 12, 2024, 12:10:56 PM)"
    }
  },
  "nbformat": 4,
  "nbformat_minor": 5
}